{
 "cells": [
  {
   "cell_type": "markdown",
   "metadata": {},
   "source": [
    "# Notebook 7 - Datasets & Evals\n",
    "\n",
    "<div>\n",
    "<center><img src=\"./images/shopping_agent.png\" width=\"600\"/></center>\n",
    "</div>\n",
    "\n",
    "Welcome to the last exercise! In this exercise, you will add tracing to our **Shopping Assistant**. You will learn how to create datasets on LangSmith and how to run evaluations (evals) to assess your agent's performance systematically.\n",
    "\n",
    "### Objective:\n",
    "The goal of this exercise is to:\n",
    "1. **Set up LangSmith tracing** to monitor and debug your agent's execution in real-time\n",
    "2. **Create comprehensive datasets** using multiple methods (programmatic, CSV, DataFrame)\n",
    "3. **Design evaluation tasks** to measure your agent's accuracy and behavior\n",
    "4. **Run automated evaluations** to validate both final outputs and intermediate steps\n",
    "5. **Analyze results** in the LangSmith UI to identify areas for improvement\n",
    "\n",
    "### Why This Exercise?\n",
    "This exercise is crucial because:\n",
    "1. **Visibility**: Tracing gives you deep insights into how your agent makes decisions, which tools it calls, and where issues occur\n",
    "2. **Quality Assurance**: Systematic evaluation ensures your agent performs consistently across various scenarios\n",
    "3. **Regression Testing**: Datasets allow you to catch bugs when making changes to your agent\n",
    "4. **Performance Metrics**: Evaluations provide quantifiable metrics to track improvements over time\n",
    "5. **Production Readiness**: Understanding evaluation patterns prepares you to deploy reliable agents in real-world applications\n",
    "\n",
    "By the end of this exercise, you'll have hands-on experience creating robust evaluation frameworks that ensure your AI agents work reliably and consistently. You'll be able to catch bugs early, measure improvements, and confidently deploy your agents knowing they've been thoroughly tested.\n",
    "\n",
    "### Ready to Get Started?\n",
    "Let's begin by setting up the environment and building a production-ready evaluation pipeline for your AI agents!\n"
   ]
  },
  {
   "cell_type": "markdown",
   "metadata": {},
   "source": [
    "## 0. Preparing the Environment"
   ]
  },
  {
   "cell_type": "code",
   "execution_count": null,
   "metadata": {},
   "outputs": [],
   "source": [
    "from dotenv import load_dotenv\n",
    "from langchain.chat_models import init_chat_model\n",
    "from langgraph.prebuilt import create_react_agent\n",
    "from langchain_core.tools import tool\n",
    "\n",
    "load_dotenv(override=True)"
   ]
  },
  {
   "cell_type": "markdown",
   "metadata": {},
   "source": [
    "## 1. Initializing the Large Language Model (LLM)"
   ]
  },
  {
   "cell_type": "code",
   "execution_count": null,
   "metadata": {
    "jupyter": {
     "is_executing": true
    }
   },
   "outputs": [],
   "source": [
    "MODEL_NAME = \"openai:gpt-4o-mini-2024-07-18\"\n",
    "MODEL_TEMPERATURE = 0\n",
    "\n",
    "llm = init_chat_model(model=MODEL_NAME, temperature=MODEL_TEMPERATURE)"
   ]
  },
  {
   "cell_type": "markdown",
   "metadata": {},
   "source": [
    "## 2. Defining the Tools"
   ]
  },
  {
   "cell_type": "markdown",
   "metadata": {},
   "source": [
    "To build the **Shopping Assistant AI agent**, we'll need two specific tools. While we’ll provide the tool for retrieving clothing data, you’ll get the opportunity to define the calculator tool (or use a prebuilt version).\n",
    "\n",
    "#### Tools Overview:\n",
    "\n",
    "1. **Clothing Data Retrieval Tool** (Provided)\n",
    "   - This tool retrieves basic information about available clothing items, such as type, price, and discount.\n",
    "   - The agent will use it to respond to queries like:\n",
    "     - *\"What’s the price of a red t-shirt?\"*\n",
    "     - *\"Do you have black shoes?\"*\n",
    "\n",
    "2. **Calculator Tool** (To Be Defined)\n",
    "   - The agent will use this tool to perform mathematical operations, such as:\n",
    "     - Calculating totals for multiple items.\n",
    "     - Applying discounts.\n",
    "   - You can define your own tool (recomended) or use a prebuilt one.\n",
    "\n",
    "Let’s start by defining the data and the tools."
   ]
  },
  {
   "cell_type": "code",
   "execution_count": null,
   "metadata": {},
   "outputs": [],
   "source": [
    "import enum\n",
    "\n",
    "class ProductNames(enum.Enum):\n",
    "    RedShirt = \"red shirt\"\n",
    "    BlueJeans = \"blue jeans\"\n",
    "    BlackShoes = \"black shoes\"\n",
    "    WhiteSocks = \"white socks\"\n",
    "    GrayHat = \"gray hat\"\n",
    "    GreenScarf = \"green scarf\"\n",
    "    YellowBelt = \"yellow belt\"\n",
    "    PurpleGloves = \"purple gloves\"\n",
    "    BrownJacket = \"brown jacket\"\n",
    "    PinkSweater = \"pink sweater\"\n",
    "\n",
    "PRODUCTS = [\n",
    "    {\n",
    "        \"name\": ProductNames.RedShirt.value,\n",
    "        \"price\": 20.00,\n",
    "        \"discount\": 0.10,\n",
    "        \"currency\": \"EUR\",\n",
    "        \"description\": \"A stylish red shirt made from high-quality cotton.\",\n",
    "    },\n",
    "    {\n",
    "        \"name\": ProductNames.BlueJeans.value,\n",
    "        \"price\": 40.00,\n",
    "        \"discount\": 0.20,\n",
    "        \"currency\": \"EUR\",\n",
    "        \"description\": \"A pair of comfortable blue jeans made from durable denim.\",\n",
    "    },\n",
    "    {\n",
    "        \"name\": ProductNames.BlackShoes.value,\n",
    "        \"price\": 30.00,\n",
    "        \"discount\": 0.15,\n",
    "        \"currency\": \"EUR\",\n",
    "        \"description\": \"A pair of elegant black shoes made from genuine leather.\",\n",
    "    },\n",
    "    {\n",
    "        \"name\": ProductNames.WhiteSocks.value,\n",
    "        \"price\": 5.00,\n",
    "        \"discount\": 0.05,\n",
    "        \"currency\": \"EUR\",\n",
    "        \"description\": \"A pack of soft white socks made from breathable cotton.\",\n",
    "    },\n",
    "    {\n",
    "        \"name\": ProductNames.GrayHat.value,\n",
    "        \"price\": 10.00,\n",
    "        \"discount\": 0.10,\n",
    "        \"currency\": \"EUR\",\n",
    "        \"description\": \"A stylish gray hat made from lightweight fabric.\",\n",
    "    },\n",
    "    {\n",
    "        \"name\": ProductNames.GreenScarf.value,\n",
    "        \"price\": 15.00,\n",
    "        \"discount\": 0.12,\n",
    "        \"currency\": \"EUR\",\n",
    "        \"description\": \"A warm green scarf made from wool.\",\n",
    "    },\n",
    "    {\n",
    "        \"name\": ProductNames.YellowBelt.value,\n",
    "        \"price\": 8.00,\n",
    "        \"discount\": 0.08,\n",
    "        \"currency\": \"EUR\",\n",
    "        \"description\": \"A yellow belt made from synthetic leather.\",\n",
    "    },\n",
    "    {\n",
    "        \"name\": ProductNames.PurpleGloves.value,\n",
    "        \"price\": 12.00,\n",
    "        \"discount\": 0.10,\n",
    "        \"currency\": \"EUR\",\n",
    "        \"description\": \"A pair of purple gloves made from soft fabric.\",\n",
    "    },\n",
    "    {\n",
    "        \"name\": ProductNames.BrownJacket.value,\n",
    "        \"price\": 50.00,\n",
    "        \"discount\": 0.25,\n",
    "        \"currency\": \"EUR\",\n",
    "        \"description\": \"A brown jacket made from genuine leather.\",\n",
    "    },\n",
    "    {\n",
    "        \"name\": ProductNames.PinkSweater.value,\n",
    "        \"price\": 25.00,\n",
    "        \"discount\": 0.15,\n",
    "        \"currency\": \"EUR\",\n",
    "        \"description\": \"A pink sweater made from high-quality cotton.\",\n",
    "    }\n",
    "]"
   ]
  },
  {
   "cell_type": "code",
   "execution_count": null,
   "metadata": {},
   "outputs": [],
   "source": [
    "from tools.math import prebuilt_calculator\n",
    "\n",
    "@tool\n",
    "def get_product_info(product_name: ProductNames) -> dict:\n",
    "    \"\"\"\n",
    "    This tool retrieves information about a product based on its name.\n",
    "    The input is a product name from the ProductNames enum.\n",
    "    The output is a dictionary containing the product's details such as price, discount, currency, and description.\n",
    "    If the product is not found, it returns None.\n",
    "    \"\"\"\n",
    "    for product in PRODUCTS:\n",
    "        if product[\"name\"] == product_name.value:\n",
    "            return product\n",
    "    return None\n",
    "\n",
    "@tool\n",
    "def calculator(expression: str) -> float:\n",
    "    \"\"\"\n",
    "    This tool evaluates a mathematical expression provided as a string and returns the result as a float.\n",
    "    The input is a string representing a mathematical expression (e.g., \"2 + 2 * 3\").\n",
    "    The output is the result of the evaluated expression as a float.\n",
    "    If the expression is invalid or cannot be evaluated, it raises an appropriate error.\n",
    "    \"\"\"\n",
    "    return prebuilt_calculator(expression)"
   ]
  },
  {
   "cell_type": "markdown",
   "metadata": {},
   "source": [
    "Test both tools to ensure they work correctly before integrating them into the agent."
   ]
  },
  {
   "cell_type": "code",
   "execution_count": null,
   "metadata": {},
   "outputs": [],
   "source": [
    "get_product_info.invoke({\"product_name\": ProductNames.RedShirt})"
   ]
  },
  {
   "cell_type": "code",
   "execution_count": null,
   "metadata": {},
   "outputs": [],
   "source": [
    "calculator.invoke({\"expression\": \"2 + 2 * 10\"})"
   ]
  },
  {
   "cell_type": "markdown",
   "metadata": {},
   "source": [
    "## 3. Crafting the Agent System Prompt\n",
    "\n",
    "Define a system prompt for your agent. The agent should:\n",
    "1. Help customers browse a clothing shop by retrieving details about items (using the `get_clothing_info` tool).\n",
    "2. Perform calculations, such as computing totals or applying discounts, with the `perform_calculation` tool.\n",
    "3. Politely decline irrelevant or unsupported queries (e.g., unrelated to clothing or shopping)."
   ]
  },
  {
   "cell_type": "code",
   "execution_count": null,
   "metadata": {},
   "outputs": [],
   "source": [
    "SHOPPING_AGENT_PROMPT = \"\"\"\"\n",
    "You are a helpful shopping assistant for a clothing store. You help customers find products, provide information about them, calculate prices, discount, and assist with their shopping needs.\n",
    "\n",
    "Tone of voice: friendly, professional, and approachable.\n",
    "Language: Match the user's language.\n",
    "\n",
    "Tools you can use:\n",
    "- get_product_info: Use this tool to get detailed information about a product by providing its name from the ProductNames enum.\n",
    "- calculator: Use this tool to perform mathematical calculations.\n",
    "\n",
    "Duties:\n",
    "- Understand the user's shopping needs and preferences.\n",
    "- Provide accurate and detailed information about products.\n",
    "- Compute prices, discounts, and totals as needed.\n",
    "- Correctly apply discounts to product prices: final_price = price * (1 - discount) using the calculator tool.\n",
    "- Always think step-by-step and use the tools when necessary to ensure accuracy.\n",
    "- Do not rely on memory; use the tools to fetch information as needed.\n",
    "- Consider the discount only when explicitly asked by the user.\n",
    "\"\"\""
   ]
  },
  {
   "cell_type": "markdown",
   "metadata": {},
   "source": [
    "## 4. Building the AI Agent\n",
    "\n",
    "Now that you have the tools and system prompt ready, it’s time to build the AI agent. The agent should have access to both tools and should also have short-term memory to keep track of the conversation context."
   ]
  },
  {
   "cell_type": "code",
   "execution_count": null,
   "metadata": {},
   "outputs": [],
   "source": [
    "from langgraph.checkpoint.memory import MemorySaver\n",
    "from uuid import uuid4\n",
    "\n",
    "# Initialize MemorySaver\n",
    "memory = MemorySaver()\n",
    "\n",
    "config = {\n",
    "    \"configurable\": {\n",
    "        \"thread_id\": str(uuid4())\n",
    "        }\n",
    "}\n",
    "\n",
    "graph = create_react_agent(\n",
    "    model=llm,\n",
    "    tools=[get_product_info, calculator],\n",
    "    prompt=SHOPPING_AGENT_PROMPT,\n",
    "    checkpointer=memory,\n",
    ").with_config(config)"
   ]
  },
  {
   "cell_type": "markdown",
   "id": "33f7c349",
   "metadata": {},
   "source": [
    "## 5. Dataset Creation and Evaluations\n",
    "\n",
    "Now that we have a working Shopping Assistant agent, it's time to ensure it works reliably and consistently. In this section, we'll setup an evaluation with a simple dataset.\n",
    "\n",
    "### Why This Matters:\n",
    "Evaluations allows you to:\n",
    "- **Catch regressions** when modifying prompts or tools\n",
    "- **Quantify improvements** with concrete metrics\n",
    "- **Build confidence** before deploying to production\n",
    "- **Understand failures** through detailed trace analysis\n",
    "\n",
    "> **Note**: Ensure your `.env` file contains valid `LANGSMITH_API_KEY` and `LANGSMITH_PROJECT` values. This section assumes LangSmith is properly configured and won't display sensitive credentials.\n",
    "\n",
    "### Dataset Creation\n",
    "Let's start by creating our test dataset!"
   ]
  },
  {
   "cell_type": "code",
   "execution_count": null,
   "id": "74e0bfcb",
   "metadata": {},
   "outputs": [],
   "source": [
    "# 📦 Crea (o recupera) un dataset ad hoc per l'agente\n",
    "from langsmith import Client\n",
    "\n",
    "ls_client = Client()\n",
    "\n",
    "DATASET_NAME = \"shopping-agent-dataset-v3\"\n",
    "DATASET_DESC = \"Domande su prodotti e richieste di totali per l'agente con get_product_info + calculator.\"\n",
    "\n",
    "examples = [\n",
    "    {\n",
    "        \"inputs\": {\n",
    "            \"question\": \"How much does the red shirt cost normally?\",\n",
    "            \"expected_tools\": [\"get_product_info\"]\n",
    "        },\n",
    "        \"outputs\": {\n",
    "            \"answer\": \"20\"\n",
    "        },\n",
    "    },\n",
    "    {\n",
    "        \"inputs\": {\n",
    "            \"question\": \"How much does the red shirt cost considering the discount?\",\n",
    "            \"expected_tools\": [\"get_product_info\", \"calculator\"]\n",
    "        },\n",
    "        \"outputs\": {\n",
    "            \"answer\": \"18\"\n",
    "        },\n",
    "    },\n",
    "    {\n",
    "        \"inputs\": {\n",
    "            \"question\": \"What's the total price for 1 pair of black shoes and 1 pack of white socks considering the discount?\",\n",
    "            \"expected_tools\": [\"get_product_info\", \"calculator\"]\n",
    "        },\n",
    "        \"outputs\": {\n",
    "            \"answer\": \"30.25\"\n",
    "        },\n",
    "    },\n",
    "    {\n",
    "        \"inputs\": {\n",
    "            \"question\": \"Price of the blue jeans?\",\n",
    "            \"expected_tools\": [\"get_product_info\"]\n",
    "        },\n",
    "        \"outputs\": {\n",
    "            \"answer\": \"40\"\n",
    "        },\n",
    "    },\n",
    "    {\n",
    "        \"inputs\": {\n",
    "            \"question\": \"I want 2 blue jeans and 1 red shirt. What's the total considering the discount?\",\n",
    "            \"expected_tools\": [\"get_product_info\", \"calculator\"]\n",
    "        },\n",
    "        \"outputs\": {\n",
    "            \"answer\": \"82\"\n",
    "        },\n",
    "    },\n",
    "]\n",
    "\n",
    "try:\n",
    "    dataset = ls_client.read_dataset(DATASET_NAME)\n",
    "except Exception:\n",
    "    dataset = ls_client.create_dataset(dataset_name=DATASET_NAME, description=DATASET_DESC)\n",
    "\n",
    "ls_client.create_examples(dataset_id=dataset.id, examples=examples)\n",
    "\n",
    "print(f\"Dataset pronto: {dataset.name} (id={dataset.id}) — esempi caricati: {len(examples)}\")"
   ]
  },
  {
   "cell_type": "markdown",
   "metadata": {},
   "source": [
    "In the cell below, we define a function to convert each dataset example into the agent's input state and create a runnable pipeline (`target`) that processes these examples through the agent. This prepares the workflow for systematic evaluation of the agent's responses."
   ]
  },
  {
   "cell_type": "code",
   "execution_count": null,
   "id": "f6edd0e5",
   "metadata": {},
   "outputs": [],
   "source": [
    "from typing import Dict\n",
    "\n",
    "def example_to_state(inputs: Dict) -> Dict:\n",
    "    q = inputs[\"question\"]\n",
    "    return {\"messages\": [(\"user\", q)]}\n",
    "\n",
    "target = example_to_state | graph\n",
    "print(\"Target pronto (example_to_state | graph).\")\n"
   ]
  },
  {
   "cell_type": "markdown",
   "metadata": {},
   "source": [
    "### Defining Evaluation Functions and Criteria\n",
    "\n",
    "In the following section, we define custom evaluation functions—our criteria—for systematically assessing the Shopping Assistant agent's performance. Each function targets a specific aspect of the agent's behavior:\n",
    "\n",
    "- **price_correct**: Checks if the agent's final answer contains the correct price or total, comparing the first number in its output to the expected value with a small tolerance for floating-point precision.\n",
    "\n",
    "- **right_tools**: Verifies that the agent used all the tools expected for each example (e.g., product info retrieval, calculator), ensuring the reasoning process is traceable and correct.\n",
    "\n",
    "- **calc_arguments_sane**: For questions requiring a total or sum, this criterion ensures that the calculator tool was called with an expression containing at least two numbers, confirming that the agent performed a meaningful calculation rather than a trivial or incorrect operation.\n",
    "\n",
    "These criteria help guarantee that the agent not only produces accurate answers, but also follows the correct reasoning steps and tool usage throughout its workflow."
   ]
  },
  {
   "cell_type": "code",
   "execution_count": null,
   "id": "133e562f",
   "metadata": {},
   "outputs": [],
   "source": [
    "import re\n",
    "from typing import Dict\n",
    "\n",
    "NUM_TOLERANCE = 1e-6\n",
    "\n",
    "def extract_first_number(text: str):\n",
    "    if text is None:\n",
    "        return None\n",
    "    m = re.search(r\"-?\\d+(?:\\.\\d+)?\", str(text))\n",
    "    return float(m.group(0)) if m else None\n",
    "\n",
    "def price_correct(outputs: Dict, reference_outputs: Dict) -> bool:\n",
    "    try:\n",
    "        final_msg = outputs[\"messages\"][-1]\n",
    "        actual_text = getattr(final_msg, \"content\", final_msg)\n",
    "    except Exception:\n",
    "        actual_text = str(outputs)\n",
    "    actual_num = extract_first_number(actual_text)\n",
    "    expected_num = extract_first_number(reference_outputs.get(\"answer\"))\n",
    "    if actual_num is None or expected_num is None:\n",
    "        return False\n",
    "    return abs(actual_num - expected_num) <= NUM_TOLERANCE\n"
   ]
  },
  {
   "cell_type": "code",
   "execution_count": null,
   "id": "aa24e704",
   "metadata": {},
   "outputs": [],
   "source": [
    "from typing import Dict, List\n",
    "from langsmith.schemas import Example\n",
    "import re\n",
    "\n",
    "def _collect_tool_calls_from_messages(outputs: Dict) -> List[Dict]:\n",
    "    \"\"\"\n",
    "    Extracts all tool_calls from the messages in the graph output (if available).\n",
    "    \"\"\"\n",
    "    tool_calls = []\n",
    "    try:\n",
    "        for msg in outputs[\"messages\"]:\n",
    "            tc = getattr(msg, \"tool_calls\", None) or getattr(msg, \"additional_kwargs\", {}).get(\"tool_calls\")\n",
    "            if tc:\n",
    "                if isinstance(tc, dict):\n",
    "                    tc = [tc]\n",
    "                tool_calls.extend(tc)\n",
    "    except Exception:\n",
    "        pass\n",
    "    return tool_calls\n",
    "\n",
    "def right_tools(outputs: Dict, example: Example) -> Dict:\n",
    "    \"\"\"\n",
    "    Check if the expected tools were used in the execution.\n",
    "    \"\"\"\n",
    "    expected = set(example.inputs.get(\"expected_tools\", []))\n",
    "    if not expected:\n",
    "        return {\"key\": \"right_tools\", \"value\": True, \"comment\": \"No tools expected.\"}\n",
    "    used = {(tc.get(\"name\") if isinstance(tc, dict) else getattr(tc, \"name\", None)) for tc in _collect_tool_calls_from_messages(outputs)}\n",
    "    ok = expected.issubset(used)\n",
    "    missing = expected - used\n",
    "    return {\"key\": \"right_tools\", \"value\": bool(ok), \"comment\": f\"Missing: {sorted(missing)}\" if missing else \"\"}\n",
    "\n",
    "def calc_arguments_sane(outputs: Dict, example: Example) -> Dict:\n",
    "    \"\"\"\n",
    "    If the prompt asks for a total, check that the argument to the calculator contains at least 2 numbers.\n",
    "    \"\"\"\n",
    "    q = example.inputs.get(\"question\", \"\").lower()\n",
    "    if \"total\" not in q and \"sum\" not in q and \"price for\" not in q:\n",
    "        return {\"key\": \"calc_args_sane\", \"value\": True}\n",
    "    tool_calls = _collect_tool_calls_from_messages(outputs)\n",
    "    calc_calls = [tc for tc in tool_calls if (tc.get(\"name\") if isinstance(tc, dict) else getattr(tc, \"name\", \"\")) == \"calculator\"]\n",
    "    if not calc_calls:\n",
    "        return {\"key\": \"calc_args_sane\", \"value\": False, \"comment\": \"No calculator calls found.\"}\n",
    "    def _extract_expr(tc):\n",
    "        args = tc.get(\"args\") if isinstance(tc, dict) else getattr(tc, \"args\", {})\n",
    "        if not args and isinstance(tc, dict):\n",
    "            args = tc.get(\"arguments\") or {}\n",
    "        return (args or {}).get(\"expression\")\n",
    "    exprs = [_extract_expr(tc) for tc in calc_calls]\n",
    "    has_enough_numbers = any(len(re.findall(r\"-?\\d+(?:\\.\\d+)?\", str(e or \"\"))) >= 2 for e in exprs)\n",
    "    return {\"key\": \"calc_args_sane\", \"value\": bool(has_enough_numbers), \"comment\": f\"exprs seen={exprs}\"}"
   ]
  },
  {
   "cell_type": "markdown",
   "metadata": {},
   "source": [
    "### Running the Experiment with Custom Evaluation Criteria\n",
    "\n",
    "In the next cell, we define and launch our experiment using the custom evaluation criteria described above. This step systematically tests the Shopping Assistant agent against our dataset, applying checks for answer correctness, tool usage, and calculation logic. Once the experiment completes, you can review detailed results and traces directly in the LangSmith UI to analyze performance and identify areas for improvement."
   ]
  },
  {
   "cell_type": "code",
   "execution_count": null,
   "id": "5b73366e",
   "metadata": {},
   "outputs": [],
   "source": [
    "import datetime\n",
    "from langsmith import aevaluate\n",
    "\n",
    "EXPERIMENT_PREFIX = f\"agent-evals-{datetime.date.today()}\"\n",
    "print(\"Running evaluation… this will create an Experiment in LangSmith UI.\")\n",
    "\n",
    "experiment_results = await aevaluate(\n",
    "    target,\n",
    "    data=DATASET_NAME,\n",
    "    evaluators=[price_correct, right_tools, calc_arguments_sane],\n",
    "    experiment_prefix=EXPERIMENT_PREFIX,\n",
    "    max_concurrency=4,\n",
    ")\n",
    "print(\"Done. Controlla LangSmith → Experiments per i risultati.\")\n"
   ]
  },
  {
   "cell_type": "markdown",
   "metadata": {},
   "source": [
    "## Extra\n",
    "### Create a dataset from a CSV file\n",
    "\n",
    "In this section, we will demonstrate how you can create a dataset by uploading a CSV file.\n",
    "First, ensure your CSV file is properly formatted with columns that represent your input and output keys. These keys will be utilized to map your data properly during the upload. You can specify an optional name and description for your dataset. Otherwise, the file name will be used as the dataset name and no description will be provided."
   ]
  },
  {
   "cell_type": "code",
   "execution_count": null,
   "metadata": {},
   "outputs": [],
   "source": [
    "from langsmith import Client\n",
    "\n",
    "client = Client()\n",
    "csv_file = 'data/sample_dataset.csv'  \n",
    "input_keys = ['question', 'expected_tools'] \n",
    "output_keys = ['answer'] \n",
    "\n",
    "dataset = client.upload_csv(\n",
    "  csv_file=csv_file,\n",
    "  input_keys=input_keys,\n",
    "  output_keys=output_keys,\n",
    "  name=\"Shopping Agent CSV Dataset\",\n",
    "  description=\"Dataset created from a CSV file with shopping agent questions\",\n",
    "  data_type=\"kv\"\n",
    ")"
   ]
  },
  {
   "cell_type": "markdown",
   "metadata": {},
   "source": [
    "### Create a dataset from pandas DataFrame (Python only)\n",
    "The python client offers an additional convenience method to upload a dataset from a pandas dataframe."
   ]
  },
  {
   "cell_type": "code",
   "execution_count": null,
   "metadata": {},
   "outputs": [],
   "source": [
    "from langsmith import Client\n",
    "import pandas as pd\n",
    "\n",
    "client = Client()\n",
    "df = pd.read_parquet('data/sample_dataset.parquet') \n",
    "input_keys = ['question', 'expected_tools']  \n",
    "output_keys = ['answer'] \n",
    "\n",
    "dataset = client.upload_dataframe(\n",
    "    df=df,\n",
    "    input_keys=input_keys,\n",
    "    output_keys=output_keys,\n",
    "    name=\"Shopping Agent Parquet Dataset\",\n",
    "    description=\"Dataset created from a parquet file with shopping agent questions\",\n",
    "    data_type=\"kv\"\n",
    ")"
   ]
  },
  {
   "cell_type": "markdown",
   "metadata": {},
   "source": [
    "### Fetch datasets\n",
    "You can programmatically fetch datasets from LangSmith using the list_datasets/listDatasets method in the Python and TypeScript SDKs. Below are some common calls."
   ]
  },
  {
   "cell_type": "code",
   "execution_count": null,
   "metadata": {},
   "outputs": [],
   "source": [
    "from langsmith import Client\n",
    "\n",
    "client = Client()"
   ]
  },
  {
   "cell_type": "code",
   "execution_count": null,
   "metadata": {},
   "outputs": [],
   "source": [
    "datasets = client.list_datasets()\n",
    "\n",
    "for d in datasets:\n",
    "    print(f\"{d.name} (id={d.id}) - {d.description} - {d.created_at}\")"
   ]
  },
  {
   "cell_type": "markdown",
   "metadata": {},
   "source": [
    "### List datasets by name\n",
    "If you want to search by the exact name, you can do the following:"
   ]
  },
  {
   "cell_type": "code",
   "execution_count": null,
   "metadata": {},
   "outputs": [],
   "source": [
    "datasets = client.list_datasets(dataset_name=\"Shopping Agent CSV Dataset\")\n",
    "\n",
    "for d in datasets:\n",
    "    print(f\"{d.name} (id={d.id}) - {d.description} - {d.created_at}\")"
   ]
  }
 ],
 "metadata": {
  "kernelspec": {
   "display_name": ".venv",
   "language": "python",
   "name": "python3"
  },
  "language_info": {
   "codemirror_mode": {
    "name": "ipython",
    "version": 3
   },
   "file_extension": ".py",
   "mimetype": "text/x-python",
   "name": "python",
   "nbconvert_exporter": "python",
   "pygments_lexer": "ipython3",
   "version": "3.13.3"
  }
 },
 "nbformat": 4,
 "nbformat_minor": 2
}
