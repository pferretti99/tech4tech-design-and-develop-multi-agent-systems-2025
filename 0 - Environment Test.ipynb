{
 "cells": [
  {
   "cell_type": "markdown",
   "metadata": {},
   "source": [
    "# Environment Test"
   ]
  },
  {
   "cell_type": "markdown",
   "metadata": {},
   "source": [
    "Welcome! 🎉 Before you start the hands-on session, let’s make sure your environment is correctly set up and ready to go.\n",
    "\n",
    "This notebook will ensure the **main required libraries and modules** are correctly installed and that the environment is properly configured.\n",
    "\n",
    "### Instructions:\n",
    "\n",
    "1. Follow the instructions in the **README.md** file to set up your environment.\n",
    "2. Run the code cell below to check if everything is correctly configured.\n",
    "\n",
    "**N.B.**: During the hands-on session, all necessary tools, environments and libraries will already be pre-installed on the lab computers. You do not need to follow the setup instructions below unless you are working on your own machine outside of the hands-on session.\n",
    "\n",
    "If this is your first time working with Jupyter Notebooks, we recommend reviewing the [Jupyter Notebooks in VS Code](https://code.visualstudio.com/docs/datascience/jupyter-notebooks#_create-or-open-a-jupyter-notebook) guide to get started.   "
   ]
  },
  {
   "cell_type": "code",
   "execution_count": null,
   "metadata": {},
   "outputs": [],
   "source": [
    "import ipykernel\n",
    "import jupyter\n",
    "import langgraph\n",
    "import pytz\n",
    "import langchain\n",
    "\n",
    "from dotenv import load_dotenv\n",
    "from langchain.chat_models import init_chat_model\n",
    "\n",
    "load_dotenv()\n",
    "\n",
    "MODEL_NAME = \"openai:gpt-4o-mini-2024-07-18\"\n",
    "MODEL_TEMPERATURE = 0\n",
    "\n",
    "try:\n",
    "    llm = init_chat_model(model=MODEL_NAME, temperature=MODEL_TEMPERATURE)\n",
    "    messages = [\n",
    "        (\"user\", \"What's the capital of France?\"),\n",
    "    ]\n",
    "    response = llm.invoke(messages)\n",
    "    print(\"Risposta del modello:\", response.content)\n",
    "    print(\"🚀 Se stai leggendo questo senza errori, sei pronto per iniziare la sessione pratica! 🚀\")\n",
    "    print(\"⚠️ Attendi l'inizio della sessione prima di aprire altri notebook! ⚠️\")\n",
    "except Exception as e:\n",
    "    print(\"❌ C'è stato un errore durante l'inizializzazione del modello o la generazione della risposta.\")    \n",
    "    print(\"💡 Ricorda: Riceverai la tua chiave API OpenAI e dovrai aggiungerla al file .env.\")\n",
    "    print(\"Errore:\", str(e))"
   ]
  }
 ],
 "metadata": {
  "kernelspec": {
   "display_name": ".venv",
   "language": "python",
   "name": "python3"
  },
  "language_info": {
   "codemirror_mode": {
    "name": "ipython",
    "version": 3
   },
   "file_extension": ".py",
   "mimetype": "text/x-python",
   "name": "python",
   "nbconvert_exporter": "python",
   "pygments_lexer": "ipython3",
   "version": "3.13.3"
  }
 },
 "nbformat": 4,
 "nbformat_minor": 2
}
